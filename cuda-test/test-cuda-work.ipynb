{
 "cells": [
  {
   "cell_type": "markdown",
   "id": "be203505-3c79-438d-bc6f-728dba992247",
   "metadata": {},
   "source": [
    "# Тестовые примеры для проверки работы pytorch"
   ]
  },
  {
   "cell_type": "code",
   "execution_count": 7,
   "id": "5c4c11e6-0e74-4cd4-93ef-53e5c3ffa9e0",
   "metadata": {
    "ExecuteTime": {
     "end_time": "2024-10-12T11:03:08.785004700Z",
     "start_time": "2024-10-12T11:03:08.771005100Z"
    }
   },
   "outputs": [
    {
     "name": "stdout",
     "output_type": "stream",
     "text": [
      "GPU is available: NVIDIA GeForce RTX 3080 Ti\n",
      "Tensor created on: cuda:0\n"
     ]
    }
   ],
   "source": [
    "import torch\n",
    "\n",
    "# Проверка доступности GPU\n",
    "if torch.cuda.is_available():\n",
    "    print(f\"GPU is available: {torch.cuda.get_device_name(0)}\")\n",
    "else:\n",
    "    print(\"GPU is not available\")\n",
    "\n",
    "# Тестовая операция на GPU\n",
    "device = torch.device(\"cuda\" if torch.cuda.is_available() else \"cpu\")\n",
    "x = torch.rand(3, 3).to(device)  # Создаём случайный тензор и отправляем на устройство\n",
    "print(f\"Tensor created on: {x.device}\")"
   ]
  },
  {
   "cell_type": "code",
   "execution_count": 8,
   "id": "dcf0ab24-1f49-443a-91ab-75a501bf71c6",
   "metadata": {
    "ExecuteTime": {
     "end_time": "2024-10-12T11:03:49.269320200Z",
     "start_time": "2024-10-12T11:03:09.636320900Z"
    }
   },
   "outputs": [
    {
     "name": "stdout",
     "output_type": "stream",
     "text": [
      "Training on CPU...\n",
      "Training time on CPU: 18.5004 seconds\n",
      "Training on GPU...\n",
      "Training time on GPU: 19.3624 seconds\n"
     ]
    }
   ],
   "source": [
    "import torch\n",
    "import torchvision\n",
    "import torchvision.transforms as transforms\n",
    "import torch.nn as nn\n",
    "import torch.optim as optim\n",
    "import time\n",
    "\n",
    "# Настройки\n",
    "batch_size = 64\n",
    "num_epochs = 1  # Уменьшено для быстрой проверки\n",
    "\n",
    "# Загрузка данных\n",
    "transform = transforms.Compose([transforms.ToTensor(), transforms.Normalize((0.5,), (0.5,))])\n",
    "\n",
    "trainset = torchvision.datasets.MNIST(root='./data', train=True, download=True, transform=transform)\n",
    "trainloader = torch.utils.data.DataLoader(trainset, batch_size=batch_size, shuffle=True)\n",
    "\n",
    "# Определение модели\n",
    "class SimpleNN(nn.Module):\n",
    "    def __init__(self):\n",
    "        super(SimpleNN, self).__init__()\n",
    "        self.fc1 = nn.Linear(28 * 28, 128)\n",
    "        self.fc2 = nn.Linear(128, 10)\n",
    "\n",
    "    def forward(self, x):\n",
    "        x = x.view(-1, 28 * 28)  # Преобразуем изображения в векторы\n",
    "        x = torch.relu(self.fc1(x))\n",
    "        x = self.fc2(x)\n",
    "        return x\n",
    "\n",
    "# Функция для обучения модели\n",
    "def train_model(device):\n",
    "    model = SimpleNN().to(device)\n",
    "    criterion = nn.CrossEntropyLoss()\n",
    "    optimizer = optim.SGD(model.parameters(), lr=0.01)\n",
    "\n",
    "    start_time = time.time()  # Записываем время начала\n",
    "\n",
    "    for epoch in range(num_epochs):\n",
    "        for images, labels in trainloader:\n",
    "            images, labels = images.to(device), labels.to(device)\n",
    "\n",
    "            optimizer.zero_grad()   # Обнуляем градиенты\n",
    "            outputs = model(images) # Прямой проход\n",
    "            loss = criterion(outputs, labels) # Вычисляем потерю\n",
    "            loss.backward()         # Обратный проход\n",
    "            optimizer.step()        # Обновляем параметры\n",
    "\n",
    "    end_time = time.time()  # Записываем время окончания\n",
    "    return end_time - start_time  # Возвращаем время выполнения\n",
    "\n",
    "# Обучение на CPU\n",
    "print(\"Training on CPU...\")\n",
    "cpu_time = train_model(device='cpu')\n",
    "print(f\"Training time on CPU: {cpu_time:.4f} seconds\")\n",
    "\n",
    "# Обучение на GPU\n",
    "print(\"Training on GPU...\")\n",
    "gpu_time = train_model(device='cuda' if torch.cuda.is_available() else 'cpu')\n",
    "print(f\"Training time on GPU: {gpu_time:.4f} seconds\")\n"
   ]
  },
  {
   "cell_type": "markdown",
   "id": "3d1bc0be-8ad3-4689-bd75-48f1c3d50e1e",
   "metadata": {},
   "source": [
    "# Проверки"
   ]
  },
  {
   "cell_type": "code",
   "execution_count": 9,
   "outputs": [],
   "source": [
    "import torch\n",
    "\n",
    "device = torch.device(\"cuda\" if torch.cuda.is_available() else \"cpu\")\n",
    "\n",
    "# Создаем случайный тензор и перемещаем его на GPU\n",
    "x = torch.randn(10000, 10000).to(device)\n",
    "\n",
    "# Выполняем простую операцию, чтобы загрузить GPU\n",
    "y = torch.mm(x, x)"
   ],
   "metadata": {
    "collapsed": false,
    "ExecuteTime": {
     "end_time": "2024-10-12T11:04:02.645476100Z",
     "start_time": "2024-10-12T11:03:59.489015600Z"
    }
   },
   "id": "5b09cc8d580e2942"
  },
  {
   "cell_type": "code",
   "execution_count": 10,
   "outputs": [
    {
     "name": "stdout",
     "output_type": "stream",
     "text": [
      "2.4.1\n",
      "True\n",
      "0\n",
      "NVIDIA GeForce RTX 3080 Ti\n"
     ]
    }
   ],
   "source": [
    "import torch\n",
    "print(torch.__version__)\n",
    "print(torch.cuda.is_available())  # Должно вернуть True\n",
    "print(torch.cuda.current_device())  # Должно вернуть ID текущего устройства\n",
    "print(torch.cuda.get_device_name(0))  # Имя вашего GPU"
   ],
   "metadata": {
    "collapsed": false,
    "ExecuteTime": {
     "end_time": "2024-10-12T11:04:08.542362700Z",
     "start_time": "2024-10-12T11:04:08.531363100Z"
    }
   },
   "id": "7a01bd1249c21811"
  },
  {
   "cell_type": "code",
   "execution_count": 12,
   "outputs": [],
   "source": [
    "import torch\n",
    "import time\n",
    "\n",
    "# Проверка доступности GPU\n",
    "device = torch.device(\"cuda\" if torch.cuda.is_available() else \"cpu\")\n",
    "\n",
    "\n",
    "# Функция для выполнения вычислений на GPU\n",
    "def gpu_load_test():\n",
    "    # Количество итераций\n",
    "    iterations = 100\n",
    "    # Размер тензоров\n",
    "    tensor_size = (10000, 10000)\n",
    "\n",
    "    for i in range(iterations):\n",
    "        # Создание случайного тензора\n",
    "        x = torch.rand(tensor_size, device=device)\n",
    "        y = torch.rand(tensor_size, device=device)\n",
    "\n",
    "        # Выполнение операций\n",
    "        z = torch.matmul(x, y)\n",
    "\n",
    "        # Ожидание, чтобы не перегружать GPU слишком быстро\n",
    "        time.sleep(0.1)\n",
    "\n",
    "        # Освобождение памяти\n",
    "        del x, y, z\n",
    "\n",
    "\n",
    "# Запуск теста\n",
    "gpu_load_test()"
   ],
   "metadata": {
    "collapsed": false,
    "ExecuteTime": {
     "end_time": "2024-10-12T18:21:47.725952400Z",
     "start_time": "2024-10-12T18:21:37.657231800Z"
    }
   },
   "id": "54878a08083f252a"
  },
  {
   "cell_type": "code",
   "execution_count": 15,
   "outputs": [
    {
     "name": "stdout",
     "output_type": "stream",
     "text": [
      "Используемое устройство: cuda\n",
      "Files already downloaded and verified\n",
      "Files already downloaded and verified\n",
      "\n",
      "Обучение на GPU...\n",
      "Epoch 1/5, Loss: 1.4156\n",
      "Epoch 2/5, Loss: 1.0285\n",
      "Epoch 3/5, Loss: 0.8503\n",
      "Epoch 4/5, Loss: 0.7141\n",
      "Epoch 5/5, Loss: 0.5901\n",
      "Обучение завершено за 99.55 секунд\n",
      "Точность на тестовых данных: 70.94%\n",
      "\n",
      "Обучение на CPU...\n",
      "Epoch 1/5, Loss: 1.4511\n",
      "Epoch 2/5, Loss: 1.0594\n",
      "Epoch 3/5, Loss: 0.8921\n",
      "Epoch 4/5, Loss: 0.7655\n"
     ]
    },
    {
     "name": "stderr",
     "output_type": "stream",
     "text": [
      "\n",
      "KeyboardInterrupt\n",
      "\n"
     ]
    }
   ],
   "source": [
    "import time\n",
    "import torch\n",
    "import torch.nn as nn\n",
    "import torch.optim as optim\n",
    "from torchvision import datasets, transforms\n",
    "from torch.utils.data import DataLoader\n",
    "\n",
    "# Проверка на наличие GPU\n",
    "device = torch.device(\"cuda\" if torch.cuda.is_available() else \"cpu\")\n",
    "print(f\"Используемое устройство: {device}\")\n",
    "\n",
    "# 1. Подготовка данных\n",
    "transform = transforms.Compose([\n",
    "    transforms.Resize((32, 32)),\n",
    "    transforms.ToTensor(),\n",
    "])\n",
    "\n",
    "# Используем набор CIFAR-10 для теста\n",
    "train_dataset = datasets.CIFAR10(root='./data', train=True, download=True, transform=transform)\n",
    "test_dataset = datasets.CIFAR10(root='./data', train=False, download=True, transform=transform)\n",
    "\n",
    "train_loader = DataLoader(train_dataset, batch_size=64, shuffle=True)\n",
    "test_loader = DataLoader(test_dataset, batch_size=64, shuffle=False)\n",
    "\n",
    "# 2. Определение простой модели\n",
    "class SimpleCNN(nn.Module):\n",
    "    def __init__(self):\n",
    "        super(SimpleCNN, self).__init__()\n",
    "        self.conv1 = nn.Conv2d(3, 32, kernel_size=3, padding=1)\n",
    "        self.conv2 = nn.Conv2d(32, 64, kernel_size=3, padding=1)\n",
    "        self.pool = nn.MaxPool2d(2, 2)\n",
    "        self.fc1 = nn.Linear(64 * 8 * 8, 512)\n",
    "        self.fc2 = nn.Linear(512, 10)\n",
    "\n",
    "    def forward(self, x):\n",
    "        x = self.pool(torch.relu(self.conv1(x)))\n",
    "        x = self.pool(torch.relu(self.conv2(x)))\n",
    "        x = x.view(-1, 64 * 8 * 8)\n",
    "        x = torch.relu(self.fc1(x))\n",
    "        x = self.fc2(x)\n",
    "        return x\n",
    "\n",
    "# Инициализация модели\n",
    "model = SimpleCNN().to(device)\n",
    "\n",
    "# 3. Оптимизатор и функция потерь\n",
    "criterion = nn.CrossEntropyLoss()\n",
    "optimizer = optim.Adam(model.parameters(), lr=0.001)\n",
    "\n",
    "# 4. Функция обучения модели\n",
    "def train_model(model, train_loader, criterion, optimizer, epochs=5, device=device):\n",
    "    model.train()\n",
    "    for epoch in range(epochs):\n",
    "        running_loss = 0.0\n",
    "        for inputs, labels in train_loader:\n",
    "            inputs, labels = inputs.to(device), labels.to(device)\n",
    "\n",
    "            optimizer.zero_grad()\n",
    "            outputs = model(inputs)\n",
    "            loss = criterion(outputs, labels)\n",
    "            loss.backward()\n",
    "            optimizer.step()\n",
    "\n",
    "            running_loss += loss.item()\n",
    "        print(f\"Epoch {epoch+1}/{epochs}, Loss: {running_loss/len(train_loader):.4f}\")\n",
    "\n",
    "# 5. Функция для оценки модели\n",
    "def evaluate_model(model, test_loader, device=device):\n",
    "    model.eval()\n",
    "    correct = 0\n",
    "    total = 0\n",
    "    with torch.no_grad():\n",
    "        for inputs, labels in test_loader:\n",
    "            inputs, labels = inputs.to(device), labels.to(device)\n",
    "            outputs = model(inputs)\n",
    "            _, predicted = torch.max(outputs, 1)\n",
    "            total += labels.size(0)\n",
    "            correct += (predicted == labels).sum().item()\n",
    "    \n",
    "    accuracy = 100 * correct / total\n",
    "    print(f\"Точность на тестовых данных: {accuracy:.2f}%\")\n",
    "\n",
    "# Обучение на GPU\n",
    "start_time = time.time()\n",
    "print(\"\\nОбучение на GPU...\")\n",
    "train_model(model, train_loader, criterion, optimizer, epochs=5)\n",
    "gpu_time = time.time() - start_time\n",
    "print(f\"Обучение завершено за {gpu_time:.2f} секунд\")\n",
    "\n",
    "# Оценка модели на GPU\n",
    "evaluate_model(model, test_loader)\n",
    "\n",
    "# Перенос модели на CPU\n",
    "model_cpu = SimpleCNN().to('cpu')\n",
    "\n",
    "# Переинициализация оптимизатора для CPU\n",
    "optimizer_cpu = optim.Adam(model_cpu.parameters(), lr=0.001)\n",
    "\n",
    "# Обучение на CPU\n",
    "start_time = time.time()\n",
    "print(\"\\nОбучение на CPU...\")\n",
    "train_model(model_cpu, train_loader, criterion, optimizer_cpu, epochs=5, device='cpu')\n",
    "cpu_time = time.time() - start_time\n",
    "print(f\"Обучение завершено за {cpu_time:.2f} секунд\")\n",
    "\n",
    "# Оценка модели на CPU\n",
    "evaluate_model(model_cpu, test_loader, device='cpu')\n"
   ],
   "metadata": {
    "collapsed": false,
    "ExecuteTime": {
     "end_time": "2024-10-12T18:55:18.459172800Z",
     "start_time": "2024-10-12T18:47:18.015743900Z"
    }
   },
   "id": "c1963d74eb5f1fbb"
  },
  {
   "cell_type": "code",
   "execution_count": 1,
   "outputs": [
    {
     "name": "stdout",
     "output_type": "stream",
     "text": [
      "2.4.1\n",
      "CUDA Version:  11.8\n",
      "Device name: NVIDIA GeForce RTX 3080 Ti\n",
      "FlashAttention available: True\n"
     ]
    }
   ],
   "source": [
    "import torch\n",
    "\n",
    "# Check what version of PyTorch is installed\n",
    "print(torch.__version__)\n",
    "\n",
    "# Check the current CUDA version being used\n",
    "print(\"CUDA Version: \", torch.version.cuda)\n",
    "\n",
    "# Check if CUDA is available and if so, print the device name\n",
    "print(\"Device name:\", torch.cuda.get_device_properties(\"cuda\").name)\n",
    "\n",
    "# Check if FlashAttention is available\n",
    "print(\"FlashAttention available:\", torch.backends.cuda.flash_sdp_enabled())"
   ],
   "metadata": {
    "collapsed": false,
    "ExecuteTime": {
     "end_time": "2024-12-04T20:37:33.686955900Z",
     "start_time": "2024-12-04T20:37:30.602465600Z"
    }
   },
   "id": "49ec3707cff901c5"
  },
  {
   "cell_type": "code",
   "execution_count": null,
   "outputs": [],
   "source": [],
   "metadata": {
    "collapsed": false
   },
   "id": "e531eb12bda87408"
  }
 ],
 "metadata": {
  "kernelspec": {
   "display_name": "myenv",
   "language": "python",
   "name": "myenv"
  },
  "language_info": {
   "codemirror_mode": {
    "name": "ipython",
    "version": 3
   },
   "file_extension": ".py",
   "mimetype": "text/x-python",
   "name": "python",
   "nbconvert_exporter": "python",
   "pygments_lexer": "ipython3",
   "version": "3.10.15"
  }
 },
 "nbformat": 4,
 "nbformat_minor": 5
}
